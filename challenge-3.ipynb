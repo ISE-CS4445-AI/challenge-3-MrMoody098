{
 "cells": [
  {
   "metadata": {},
   "cell_type": "markdown",
   "source": [
    "# Challenge 3 - Advanced Classification and Evaluation Metrics\n",
    "\n",
    "Welcome to challenge #3! You know the drill by now i.e., the MCQ section and the code challenge section.\n",
    "\n",
    "Good luck! :)"
   ]
  },
  {
   "metadata": {},
   "cell_type": "markdown",
   "source": "## Section 1: Multiple Choice Questions"
  },
  {
   "metadata": {},
   "cell_type": "markdown",
   "source": [
    "### Q1. Which statement is **true** regarding **precision** in a multi-class classification context? (1 point)\n",
    "\n",
    "**Options**:  \n",
    "1. Precision is the fraction of actual positives that were predicted positive.  \n",
    "2. Precision is the fraction of predicted positives that are actual positives.  \n",
    "3. Precision is the fraction of negative predictions that are correct."
   ]
  },
  {
   "metadata": {
    "ExecuteTime": {
     "end_time": "2025-02-05T13:58:37.426668Z",
     "start_time": "2025-02-05T13:58:37.421534Z"
    }
   },
   "cell_type": "code",
   "source": [
    "def answer_q1():\n",
    "    \"\"\"\n",
    "    Q1: Which statement is **true** regarding **precision** in a multi-class classification context? (1 point)\n",
    "    \"\"\"\n",
    "\n",
    "    options = {\n",
    "        1: \"Precision is the fraction of actual positives that were predicted positive\",\n",
    "        2: \"Precision is the fraction of predicted positives that are actual positives\",\n",
    "        3: \"Precision is the fraction of negative predictions that are correct\"\n",
    "    }\n",
    "\n",
    "    # TODO: return the correct option number\n",
    "    return options[2]\n",
    "\n",
    "print(f'Q1: Which statement is **true** regarding **precision** in a multi-class classification context? (1 point)\\nAnswer: {answer_q1()}')"
   ],
   "outputs": [
    {
     "name": "stdout",
     "output_type": "stream",
     "text": [
      "Q1: Which statement is **true** regarding **precision** in a multi-class classification context? (1 point)\n",
      "Answer: Precision is the fraction of predicted positives that are actual positives\n"
     ]
    }
   ],
   "execution_count": 2
  },
  {
   "metadata": {},
   "cell_type": "markdown",
   "source": [
    "### Q2. Which statement correctly describes the confusion matrix in a multi-class setting? (1 point)\n",
    "**Options:**\n",
    "1. It’s only valid for binary classification, not used for multi-class.\n",
    "2. It’s an NxN array for N classes, comparing predicted vs. actual class labels.\n",
    "3. It only shows the total correct vs. total incorrect predictions, no class breakdown."
   ]
  },
  {
   "metadata": {
    "ExecuteTime": {
     "end_time": "2025-02-05T13:58:41.540923Z",
     "start_time": "2025-02-05T13:58:41.535809Z"
    }
   },
   "cell_type": "code",
   "source": [
    "def answer_q2():\n",
    "    \"\"\"\n",
    "    Q2: Which statement correctly describes the confusion matrix in a multi-class setting? (1 point)\n",
    "    \"\"\"\n",
    "\n",
    "    options = {\n",
    "        1: \"It’s only valid for binary classification, not used for multi-class\",\n",
    "        2: \"It’s an NxN array for N classes, comparing predicted vs. actual class labels\",\n",
    "        3: \"It only shows the total correct vs. total incorrect predictions, no class breakdown\"\n",
    "    }\n",
    "\n",
    "    # TODO: return the correct option number\n",
    "    return options[2]\n",
    "\n",
    "print(f'Q2: Which statement correctly describes the confusion matrix in a multi-class setting?\\nAnswer: {answer_q2()}')"
   ],
   "outputs": [
    {
     "name": "stdout",
     "output_type": "stream",
     "text": [
      "Q2: Which statement correctly describes the confusion matrix in a multi-class setting?\n",
      "Answer: It’s an NxN array for N classes, comparing predicted vs. actual class labels\n"
     ]
    }
   ],
   "execution_count": 3
  },
  {
   "metadata": {},
   "cell_type": "markdown",
   "source": [
    "### Q3. Which classifier typically uses bagging plus random subsets of features to reduce variance? (1 point)\n",
    "**Options:**\n",
    "1. Decision Tree\n",
    "2. Random Forest\n",
    "3. Naive Bayes"
   ]
  },
  {
   "metadata": {
    "ExecuteTime": {
     "end_time": "2025-02-05T13:58:44.081035Z",
     "start_time": "2025-02-05T13:58:44.076969Z"
    }
   },
   "cell_type": "code",
   "source": [
    "def answer_q3():\n",
    "    \"\"\"\n",
    "    Q3: Which classifier typically uses bagging plus random subsets of features to reduce variance? (1 point)\n",
    "    \"\"\"\n",
    "\n",
    "    options = {\n",
    "        1: \"Decision Tree\",\n",
    "        2: \"Random Forest\",\n",
    "        3: \"Naive Bayes\"\n",
    "    }\n",
    "\n",
    "    # TODO: return the correct option number\n",
    "    return options[2]\n",
    "\n",
    "print(f'Q3: Which classifier typically uses bagging plus random subsets of features to reduce variance?\\nAnswer: {answer_q3()}')"
   ],
   "outputs": [
    {
     "name": "stdout",
     "output_type": "stream",
     "text": [
      "Q3: Which classifier typically uses bagging plus random subsets of features to reduce variance?\n",
      "Answer: Random Forest\n"
     ]
    }
   ],
   "execution_count": 4
  },
  {
   "metadata": {},
   "cell_type": "markdown",
   "source": [
    "### Q4. If we see a high recall but low precision for a certain class, what does that usually imply? (1 point)\n",
    "**Options:**\n",
    "1. The model rarely finds actual positives for that class.\n",
    "2. The model finds most actual positives (few false negatives), but also mislabels many negatives as that class (many false positives).\n",
    "3. The model completely fails to detect that class at all."
   ]
  },
  {
   "metadata": {
    "ExecuteTime": {
     "end_time": "2025-02-05T13:58:54.337545Z",
     "start_time": "2025-02-05T13:58:54.332806Z"
    }
   },
   "cell_type": "code",
   "source": [
    "def answer_q4():\n",
    "    \"\"\"\n",
    "    Q3: If we see a high recall but low precision for a certain class, what does that usually imply? (1 point)\n",
    "    \"\"\"\n",
    "\n",
    "    options = {\n",
    "        1: \"The model rarely finds actual positives for that class\",\n",
    "        2: \"The model finds most actual positives (few false negatives), but also mislabels many negatives as that class (many false positives)\",\n",
    "        3: \"The model completely fails to detect that class at all\"\n",
    "    }\n",
    "\n",
    "    # TODO: return the correct option number\n",
    "    return options[2]\n",
    "\n",
    "print(f'Q3: If we see a high recall but low precision for a certain class, what does that usually imply?\\nAnswer: {answer_q4()}')"
   ],
   "outputs": [
    {
     "name": "stdout",
     "output_type": "stream",
     "text": [
      "Q3: If we see a high recall but low precision for a certain class, what does that usually imply?\n",
      "Answer: The model finds most actual positives (few false negatives), but also mislabels many negatives as that class (many false positives)\n"
     ]
    }
   ],
   "execution_count": 5
  },
  {
   "metadata": {},
   "cell_type": "markdown",
   "source": [
    "---\n",
    "\n",
    "## Section 2: Code challenge (5 points)\n",
    "\n",
    "For this code challenge, you will work with the [UCI Car Evaluation dataset](https://www.kaggle.com/datasets/elikplim/car-evaluation-data-set). A summary of the dataset is as follows.\n",
    "\n",
    "### Features:\n",
    "- **buying**: Buying price of the car (vhigh, high, med, low)\n",
    "- **maint**: Price of the maintenance (vhigh, high, med, low)\n",
    "- **doors**: Number of doors (2, 3, 4, 5more)\n",
    "- **persons**: Capacity in terms of persons to carry (2, 4, more)\n",
    "- **lug_boot**: Size of the luggage boot (small, med, big)\n",
    "- **safety**: Estimated safety of the car (low, med, high)\n",
    "\n",
    "### Class Labels:\n",
    "- **unacc**: Unacceptable\n",
    "- **acc**: Acceptable\n",
    "- **good**: Good\n",
    "- **vgood**: Very Good\n",
    "\n",
    "To pass this section of the weekly challenge, uncomment/fill in code where necessary (marked with a 'TODO:' comment)."
   ]
  },
  {
   "metadata": {
    "ExecuteTime": {
     "end_time": "2025-02-05T13:58:58.054604Z",
     "start_time": "2025-02-05T13:58:58.029955Z"
    }
   },
   "cell_type": "code",
   "source": [
    "# Common imports\n",
    "import numpy as np\n",
    "import pandas as pd\n",
    "from sklearn.preprocessing import OneHotEncoder, LabelEncoder\n",
    "from sklearn.model_selection import train_test_split\n",
    "# from sklearn.ensemble import RandomForestClassifier -> Choose your classifier\n",
    "from sklearn.metrics import precision_score, recall_score\n",
    "from sklearn.metrics import classification_report, confusion_matrix"
   ],
   "outputs": [],
   "execution_count": 6
  },
  {
   "metadata": {},
   "cell_type": "markdown",
   "source": [
    "### 1. Load & Encode Car Dataset (1 point)\n",
    "\n",
    "**Goals** for `load_and_encode_car_data()`\n",
    "1. Reads car.csv.\n",
    "2. Encodes 6 features (buying, maint, doors, persons, lug_boot, safety).\n",
    "    e.g. one-hot or custom mapping.\n",
    "3. Maps class -> integer: unacc=0, acc=1, good=2, vgood=3.\n",
    "4. Returns (X, y) as arrays."
   ]
  },
  {
   "metadata": {
    "ExecuteTime": {
     "end_time": "2025-02-05T13:58:59.845631Z",
     "start_time": "2025-02-05T13:58:59.812934Z"
    }
   },
   "cell_type": "code",
   "source": [
    "import pandas as pd\n",
    "from sklearn.preprocessing import OneHotEncoder, LabelEncoder\n",
    "\n",
    "def load_and_encode_car_data():\n",
    "    \"\"\"\n",
    "    1) read 'car.csv'\n",
    "    2) encode the 6 features to numeric or one-hot\n",
    "    3) map class to {0,1,2,3}\n",
    "    4) return X, y\n",
    "    \"\"\"\n",
    "    # Read the dataset\n",
    "    df = pd.read_csv('car.csv')\n",
    "    \n",
    "    # Encode features\n",
    "    feature_cols = ['buying', 'maint', 'doors', 'persons', 'lug_boot', 'safety']\n",
    "    X = pd.get_dummies(df[feature_cols])\n",
    "    \n",
    "    # Encode class labels\n",
    "    label_mapping = {'unacc': 0, 'acc': 1, 'good': 2, 'vgood': 3}\n",
    "    y = df['class'].map(label_mapping)\n",
    "    \n",
    "    return X.values, y.values\n",
    "\n",
    "# demonstration\n",
    "X, y = load_and_encode_car_data()\n",
    "print(\"Shapes:\", X.shape, y.shape)"
   ],
   "outputs": [
    {
     "name": "stdout",
     "output_type": "stream",
     "text": [
      "Shapes: (1728, 21) (1728,)\n"
     ]
    }
   ],
   "execution_count": 7
  },
  {
   "metadata": {},
   "cell_type": "markdown",
   "source": [
    "### 2. Train Baseline Model (1 point)\n",
    "\n",
    "**Goals** for `train_baseline_model(X, y)`:\n",
    "1. Split data (test_size=0.2, random_state=42).\n",
    "2. Use a simple classifier (logistic or naive_bayes, etc.).\n",
    "3. Return (model, X_test, y_test, y_pred)."
   ]
  },
  {
   "metadata": {
    "ExecuteTime": {
     "end_time": "2025-02-05T13:59:02.984632Z",
     "start_time": "2025-02-05T13:59:02.857413Z"
    }
   },
   "cell_type": "code",
   "source": [
    "from sklearn.model_selection import train_test_split\n",
    "from sklearn.linear_model import LogisticRegression\n",
    "\n",
    "def train_classifier(X, y):\n",
    "    \"\"\"\n",
    "    1. split X,y\n",
    "    2. pick a classifier\n",
    "    3. fit & predict \n",
    "    4. return (model, X_test, y_test, y_pred)\n",
    "    \"\"\"\n",
    "    # Split the data\n",
    "    X_train, X_test, y_train, y_test = train_test_split(X, y, test_size=0.2, random_state=42)\n",
    "    \n",
    "    # Train a logistic regression classifier\n",
    "    model = LogisticRegression(max_iter=200)\n",
    "    model.fit(X_train, y_train)\n",
    "    \n",
    "    # Predict\n",
    "    y_pred = model.predict(X_test)\n",
    "    \n",
    "    return model, X_test, y_test, y_pred"
   ],
   "outputs": [],
   "execution_count": 8
  },
  {
   "metadata": {},
   "cell_type": "markdown",
   "source": [
    "### 3. Generate Confusion Matrix (1 point)\n",
    "\n",
    "**Goals**:\n",
    "1.  `generate_confmatrix(y_true, y_pred)` → returns an NxN confusion matrix array from scikit-learn"
   ]
  },
  {
   "metadata": {
    "ExecuteTime": {
     "end_time": "2025-02-05T13:59:08.046646Z",
     "start_time": "2025-02-05T13:59:08.042259Z"
    }
   },
   "cell_type": "code",
   "source": [
    "from sklearn.metrics import confusion_matrix\n",
    "\n",
    "def generate_confmatrix(y_true, y_pred):\n",
    "    \"\"\"\n",
    "    Return confusion_matrix array (sklearn).\n",
    "    \"\"\"\n",
    "    return confusion_matrix(y_true, y_pred)"
   ],
   "outputs": [],
   "execution_count": 9
  },
  {
   "metadata": {},
   "cell_type": "markdown",
   "source": [
    "### 4. Compute F1 score (1 point)\n",
    "\n",
    "**Goals** for `manual_f1_for_class(y_true, y_pred, class_idx)`:\n",
    "1. Use scikit-learn to get precision, recall for that single class, e.g. by calling `precision_score(..., labels=[class_idx], average='macro')` or `average='binary'` approach.\n",
    "2. Then manually compute F1 using the formula (no direct scikit calls for F1).\n",
    "3. Return the F1 score.\n"
   ]
  },
  {
   "metadata": {
    "ExecuteTime": {
     "end_time": "2025-02-05T13:59:55.901229Z",
     "start_time": "2025-02-05T13:59:55.897361Z"
    }
   },
   "cell_type": "code",
   "source": [
    "from sklearn.metrics import precision_score, recall_score\n",
    "\n",
    "def manual_f1_for_class(y_true, y_pred, class_idx):\n",
    "    \"\"\"\n",
    "    1) use scikit to get precision, recall for 'class_idx' only\n",
    "    2) compute f1 score manually\n",
    "    return that float\n",
    "    \"\"\"\n",
    "    precision = precision_score(y_true, y_pred, labels=[class_idx], average='macro', zero_division=0)\n",
    "    recall = recall_score(y_true, y_pred, labels=[class_idx], average='macro', zero_division=0)\n",
    "    f1_score = 2 * (precision * recall) / (precision + recall) if (precision + recall) > 0 else 0\n",
    "\n",
    "    return f1_score"
   ],
   "outputs": [],
   "execution_count": 12
  },
  {
   "metadata": {},
   "cell_type": "markdown",
   "source": [
    "### 5. Generate Classification Report (1 point)\n",
    "\n",
    "**Goals**\n",
    "\n",
    "1. Generate a classification report for your trained model and return the report (string value)."
   ]
  },
  {
   "metadata": {
    "ExecuteTime": {
     "end_time": "2025-02-05T14:00:00.400602Z",
     "start_time": "2025-02-05T14:00:00.346428Z"
    }
   },
   "cell_type": "code",
   "source": [
    "from sklearn.metrics import classification_report\n",
    "\n",
    "def generate_classification_report(y_true, y_pred):\n",
    "    \"\"\"\n",
    "    calls sklearn's classification_report\n",
    "    returns it\n",
    "    \"\"\"\n",
    "    return classification_report(y_true, y_pred)\n",
    "\n",
    "# optional demonstration\n",
    "X, y = load_and_encode_car_data()\n",
    "model, X_te, y_te, y_pr = train_classifier(X, y)\n",
    "print(\"Generate confmatrix:\")\n",
    "cm = generate_confmatrix(y_te, y_pr)\n",
    "print(cm)\n",
    "f1class0 = manual_f1_for_class(y_te, y_pr, class_idx=0)\n",
    "print(\"F1 for class 0 manually:\", f1class0)\n",
    "rep = generate_classification_report(y_te, y_pr)\n",
    "print(rep)"
   ],
   "outputs": [
    {
     "name": "stdout",
     "output_type": "stream",
     "text": [
      "Generate confmatrix:\n",
      "[[228   7   0   0]\n",
      " [  9  68   6   0]\n",
      " [  0   4   6   1]\n",
      " [  0   2   0  15]]\n",
      "F1 for class 0 manually: 0.9661016949152542\n",
      "              precision    recall  f1-score   support\n",
      "\n",
      "           0       0.96      0.97      0.97       235\n",
      "           1       0.84      0.82      0.83        83\n",
      "           2       0.50      0.55      0.52        11\n",
      "           3       0.94      0.88      0.91        17\n",
      "\n",
      "    accuracy                           0.92       346\n",
      "   macro avg       0.81      0.80      0.81       346\n",
      "weighted avg       0.92      0.92      0.92       346\n",
      "\n"
     ]
    }
   ],
   "execution_count": 13
  },
  {
   "metadata": {},
   "cell_type": "code",
   "outputs": [],
   "execution_count": null,
   "source": ""
  }
 ],
 "metadata": {
  "colab": {
   "provenance": []
  },
  "kernelspec": {
   "display_name": "ise",
   "language": "python",
   "name": "python3"
  },
  "language_info": {
   "codemirror_mode": {
    "name": "ipython",
    "version": 3
   },
   "file_extension": ".py",
   "mimetype": "text/x-python",
   "name": "python",
   "nbconvert_exporter": "python",
   "pygments_lexer": "ipython3",
   "version": "3.12.6"
  }
 },
 "nbformat": 4,
 "nbformat_minor": 0
}
